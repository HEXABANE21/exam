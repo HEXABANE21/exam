{
  "nbformat": 4,
  "nbformat_minor": 0,
  "metadata": {
    "colab": {
      "provenance": [],
      "collapsed_sections": [
        "I5DZviQdQfzY",
        "DHOOogOsRURC",
        "5tACfLbpSbuo",
        "rN-qyLKNT5mX",
        "kYsRJzSyVuax",
        "eCxDhffAWdEg",
        "uIqyzciyYXl2",
        "jkuoyIPdZr4D",
        "lXeyIDWea5ek",
        "kCj2rvrobx1U"
      ]
    },
    "kernelspec": {
      "name": "python3",
      "display_name": "Python 3"
    },
    "language_info": {
      "name": "python"
    }
  },
  "cells": [
    {
      "cell_type": "markdown",
      "source": [
        "####APRIORI ALGORITHM"
      ],
      "metadata": {
        "id": "I5DZviQdQfzY"
      }
    },
    {
      "cell_type": "code",
      "source": [
        "import numpy as np\n",
        "import pandas as pd\n",
        "from mlxtend.frequent_patterns import apriori\n",
        "from mlxtend.frequent_patterns import association_rules"
      ],
      "metadata": {
        "id": "4UeWMBUIQoTi"
      },
      "execution_count": null,
      "outputs": []
    },
    {
      "cell_type": "code",
      "source": [
        "df= pd.read_csv('/content/drive/MyDrive/loan-test.csv',\n",
        "sep=\",\", encoding=\"ISO-8859-1\", header=0)\n",
        "df.head()"
      ],
      "metadata": {
        "id": "7Hku7Y9EQbnI"
      },
      "execution_count": null,
      "outputs": []
    },
    {
      "cell_type": "code",
      "source": [
        "df.shape"
      ],
      "metadata": {
        "id": "LXl6ZyM7Qbyn"
      },
      "execution_count": null,
      "outputs": []
    },
    {
      "cell_type": "code",
      "source": [
        "df.info()"
      ],
      "metadata": {
        "id": "tWHtkoDYQb6x"
      },
      "execution_count": null,
      "outputs": []
    },
    {
      "cell_type": "code",
      "source": [
        "df.describe()"
      ],
      "metadata": {
        "id": "RwijeZgnQ9DC"
      },
      "execution_count": null,
      "outputs": []
    },
    {
      "cell_type": "code",
      "source": [
        "df['ApplicantIncome'].value_counts()"
      ],
      "metadata": {
        "id": "D7SwHZ7VRAV_"
      },
      "execution_count": null,
      "outputs": []
    },
    {
      "cell_type": "code",
      "source": [
        "hr = (df[df['Gender'] ==\"Male\"]\n",
        "          .groupby(['Property_Area', 'Self_Employed'])['CoapplicantIncome']\n",
        "          .sum().unstack().reset_index().fillna(0)\n",
        "          .set_index('Property_Area'))"
      ],
      "metadata": {
        "id": "3tcIKXiERDXw"
      },
      "execution_count": null,
      "outputs": []
    },
    {
      "cell_type": "code",
      "source": [
        "def my_encode_units(x):\n",
        "    if x <= 0:\n",
        "        return 0\n",
        "    if x >= 1:\n",
        "        return 1\n",
        "\n",
        "hr = hr.applymap(my_encode_units)"
      ],
      "metadata": {
        "id": "LpYIxc4ZREUQ"
      },
      "execution_count": null,
      "outputs": []
    },
    {
      "cell_type": "code",
      "source": [
        "frequent_itemsets = apriori(hr, min_support=0.07, use_colnames=True)"
      ],
      "metadata": {
        "id": "loePofu3RG1n"
      },
      "execution_count": null,
      "outputs": []
    },
    {
      "cell_type": "code",
      "source": [
        "rules = association_rules(frequent_itemsets, metric=\"lift\", min_threshold=1)"
      ],
      "metadata": {
        "id": "OLM1JHYzRJFY"
      },
      "execution_count": null,
      "outputs": []
    },
    {
      "cell_type": "code",
      "source": [
        "rules.head(100)\n"
      ],
      "metadata": {
        "id": "SCWMMhcQRMh4"
      },
      "execution_count": null,
      "outputs": []
    },
    {
      "cell_type": "markdown",
      "source": [
        "###EDA"
      ],
      "metadata": {
        "id": "DHOOogOsRURC"
      }
    },
    {
      "cell_type": "code",
      "source": [
        "import pandas as pd\n",
        "import numpy as np\n",
        "import seaborn as sns                       #visualisation\n",
        "import matplotlib.pyplot as plt             #visualisation\n",
        "%matplotlib inline     \n",
        "sns.set(color_codes=True)\n",
        "df = pd.read_csv(\"/content/drive/MyDrive/cars1.csv\")\n"
      ],
      "metadata": {
        "id": "-X6CXys8Rg5_"
      },
      "execution_count": null,
      "outputs": []
    },
    {
      "cell_type": "code",
      "source": [
        "df = pd.read_csv(\"/cars.csv\")\n",
        "df.head(5)"
      ],
      "metadata": {
        "id": "_Kd-_g5uRj5x"
      },
      "execution_count": null,
      "outputs": []
    },
    {
      "cell_type": "code",
      "source": [
        "df.tail(5)"
      ],
      "metadata": {
        "id": "A1PTjnFHRkAn"
      },
      "execution_count": null,
      "outputs": []
    },
    {
      "cell_type": "code",
      "source": [
        "df.dtypes"
      ],
      "metadata": {
        "id": "vo7kVC4SRkIP"
      },
      "execution_count": null,
      "outputs": []
    },
    {
      "cell_type": "code",
      "source": [
        "df = df.drop(['SellerReviews', 'StreetName', 'MaxMPG', 'MinMPG', 'FuelType'], axis=1)\n",
        "df.head(5)"
      ],
      "metadata": {
        "id": "zLl9Be0wRkMx"
      },
      "execution_count": null,
      "outputs": []
    },
    {
      "cell_type": "code",
      "source": [
        "df = df.rename(columns={\"Used/New\" : \"Type\" })\n",
        "df.head(5)"
      ],
      "metadata": {
        "id": "nGvB-oc-RkRX"
      },
      "execution_count": null,
      "outputs": []
    },
    {
      "cell_type": "code",
      "source": [
        "df.shape"
      ],
      "metadata": {
        "id": "ocWonaUGRxSv"
      },
      "execution_count": null,
      "outputs": []
    },
    {
      "cell_type": "code",
      "source": [
        "df.count()  "
      ],
      "metadata": {
        "id": "7i3wCi3KRxVi"
      },
      "execution_count": null,
      "outputs": []
    },
    {
      "cell_type": "code",
      "source": [
        "duplicate_rows_df = df[df.duplicated()]\n",
        "print(\"number of duplicate rows: \", duplicate_rows_df.shape)"
      ],
      "metadata": {
        "id": "AgDsTUvtR25v"
      },
      "execution_count": null,
      "outputs": []
    },
    {
      "cell_type": "code",
      "source": [
        "df = df.drop_duplicates()\n"
      ],
      "metadata": {
        "id": "rsHVp1-fR5bI"
      },
      "execution_count": null,
      "outputs": []
    },
    {
      "cell_type": "code",
      "source": [
        "df.count()"
      ],
      "metadata": {
        "id": "biBLbrAdR5g-"
      },
      "execution_count": null,
      "outputs": []
    },
    {
      "cell_type": "code",
      "source": [
        "print(df.isnull().sum())"
      ],
      "metadata": {
        "id": "wHJKOAFpR_P_"
      },
      "execution_count": null,
      "outputs": []
    },
    {
      "cell_type": "code",
      "source": [
        "sns.boxplot(x=df['ConsumerRating'])"
      ],
      "metadata": {
        "id": "oL7LFLNsSEZP"
      },
      "execution_count": null,
      "outputs": []
    },
    {
      "cell_type": "code",
      "source": [
        "Q1 = df.quantile(0.25)\n",
        "Q3 = df.quantile(0.75)\n",
        "IQR = Q3 - Q1\n",
        "print(IQR)"
      ],
      "metadata": {
        "id": "N-Bs4hnCSEdI"
      },
      "execution_count": null,
      "outputs": []
    },
    {
      "cell_type": "code",
      "source": [
        "df = df[~((df < (Q1 - 1.5 * IQR)) |(df > (Q3 + 1.5 * IQR))).any(axis=1)]\n",
        "df.shape"
      ],
      "metadata": {
        "id": "j43keQLUSJ6_"
      },
      "execution_count": null,
      "outputs": []
    },
    {
      "cell_type": "code",
      "source": [
        "df.Make.value_counts().nlargest(40).plot(kind='bar', figsize=(10,5))\n",
        "plt.title(\"Number of cars by make\")\n",
        "plt.ylabel('Number of cars')\n",
        "plt.xlabel('Make');"
      ],
      "metadata": {
        "id": "er79Q-UlSMgo"
      },
      "execution_count": null,
      "outputs": []
    },
    {
      "cell_type": "code",
      "source": [
        "plt.figure(figsize=(10,5))\n",
        "c= df.corr()\n",
        "sns.heatmap(c,cmap=\"BrBG\",annot=True)"
      ],
      "metadata": {
        "id": "Kt3a2rk5SQeP"
      },
      "execution_count": null,
      "outputs": []
    },
    {
      "cell_type": "markdown",
      "source": [
        "###DECISION TREE"
      ],
      "metadata": {
        "id": "5tACfLbpSbuo"
      }
    },
    {
      "cell_type": "code",
      "source": [
        "import numpy as np\n",
        "import pandas as pd\n",
        "import matplotlib.pyplot as plt\n",
        "import seaborn as sns\n",
        "from sklearn.model_selection import train_test_split\n",
        "from sklearn.tree import DecisionTreeClassifier, plot_tree\n",
        "from sklearn import metrics\n",
        "from sklearn.metrics import classification_report, confusion_matrix, roc_auc_score, recall_score,accuracy_score, make_scorer"
      ],
      "metadata": {
        "id": "vRFl6_cQSec2"
      },
      "execution_count": null,
      "outputs": []
    },
    {
      "cell_type": "code",
      "source": [
        "from google.colab import drive\n",
        "drive.mount('/content/drive')"
      ],
      "metadata": {
        "id": "gshlmxz4ShwX"
      },
      "execution_count": null,
      "outputs": []
    },
    {
      "cell_type": "code",
      "source": [
        "df=pd.read_csv('/content/drive/MyDrive/car_data.csv')\n",
        "df.head()"
      ],
      "metadata": {
        "id": "vXwH7tRGShzn"
      },
      "execution_count": null,
      "outputs": []
    },
    {
      "cell_type": "code",
      "source": [
        "df.info()\n",
        "df.shape"
      ],
      "metadata": {
        "id": "sKTvIv6FSh2w"
      },
      "execution_count": null,
      "outputs": []
    },
    {
      "cell_type": "code",
      "source": [
        "df.describe()"
      ],
      "metadata": {
        "id": "ZSwT7azTSh5o"
      },
      "execution_count": null,
      "outputs": []
    },
    {
      "cell_type": "code",
      "source": [
        "print(df.isnull().sum())"
      ],
      "metadata": {
        "id": "ytf6oB7lSh8K"
      },
      "execution_count": null,
      "outputs": []
    },
    {
      "cell_type": "code",
      "source": [
        "sns.pairplot(df);"
      ],
      "metadata": {
        "id": "V2RKPxZ0Sut_"
      },
      "execution_count": null,
      "outputs": []
    },
    {
      "cell_type": "code",
      "source": [
        "plt.figure(figsize=(15,10))\n",
        "sns.heatmap(df.corr(), annot=True, fmt='.2g');"
      ],
      "metadata": {
        "id": "RXUraZThSuxq"
      },
      "execution_count": null,
      "outputs": []
    },
    {
      "cell_type": "code",
      "source": [
        "sns.scatterplot(x ='Age', y = 'AnnualSalary', data = df, hue = 'Purchased')"
      ],
      "metadata": {
        "id": "vY2CSRFWS0t4"
      },
      "execution_count": null,
      "outputs": []
    },
    {
      "cell_type": "code",
      "source": [
        "sns.scatterplot(x ='Age', y = 'User ID', data = df, hue = 'Purchased')"
      ],
      "metadata": {
        "id": "V_S_N9-YS01H"
      },
      "execution_count": null,
      "outputs": []
    },
    {
      "cell_type": "code",
      "source": [
        "sns.countplot(x='Age', hue = 'Gender', data = df)"
      ],
      "metadata": {
        "id": "QoVlkZPFS7z3"
      },
      "execution_count": null,
      "outputs": []
    },
    {
      "cell_type": "code",
      "source": [
        "sns.countplot(x='Purchased', hue = 'Gender', data = df)"
      ],
      "metadata": {
        "id": "WbvdweKwS73a"
      },
      "execution_count": null,
      "outputs": []
    },
    {
      "cell_type": "code",
      "source": [
        "x = df.drop(columns = ['Purchased'],axis = 1 )\n",
        "y = df['Purchased']"
      ],
      "metadata": {
        "id": "Y-gOWDBVS79P"
      },
      "execution_count": null,
      "outputs": []
    },
    {
      "cell_type": "code",
      "source": [
        "x.info()"
      ],
      "metadata": {
        "id": "rgI3r70MTEio"
      },
      "execution_count": null,
      "outputs": []
    },
    {
      "cell_type": "code",
      "source": [
        "dummies = pd.get_dummies(x.Gender)\n",
        "dummies.head()"
      ],
      "metadata": {
        "id": "30G70o-ZTElf"
      },
      "execution_count": null,
      "outputs": []
    },
    {
      "cell_type": "code",
      "source": [
        "x = pd.concat([x,dummies], axis='columns')\n",
        "x.head()"
      ],
      "metadata": {
        "id": "9wnyQU9gTJR5"
      },
      "execution_count": null,
      "outputs": []
    },
    {
      "cell_type": "code",
      "source": [
        "x = x.drop(['Gender'],axis='columns')\n",
        "x.head()"
      ],
      "metadata": {
        "id": "mGManP9-TJWJ"
      },
      "execution_count": null,
      "outputs": []
    },
    {
      "cell_type": "code",
      "source": [
        "x_train, x_test, y_train, y_test = train_test_split(x,y,stratify=y,test_size =0.2,random_state=42)"
      ],
      "metadata": {
        "id": "6DFOR673TQOX"
      },
      "execution_count": null,
      "outputs": []
    },
    {
      "cell_type": "code",
      "source": [
        "dtree= DecisionTreeClassifier(max_leaf_nodes=20)\n",
        "dtree.fit(x_train, y_train)"
      ],
      "metadata": {
        "id": "yS636MEoTQRw"
      },
      "execution_count": null,
      "outputs": []
    },
    {
      "cell_type": "code",
      "source": [
        "predictions= dtree.predict(x_test)"
      ],
      "metadata": {
        "id": "ED2YNrg7TQUX"
      },
      "execution_count": null,
      "outputs": []
    },
    {
      "cell_type": "code",
      "source": [
        "print(\"Accuracy:\",round(metrics.accuracy_score(y_test,predictions)*100,2))"
      ],
      "metadata": {
        "id": "RlU1Nrz_TQW4"
      },
      "execution_count": null,
      "outputs": []
    },
    {
      "cell_type": "code",
      "source": [
        "print(confusion_matrix(y_test,predictions))"
      ],
      "metadata": {
        "id": "oX8zr8XmTZ4H"
      },
      "execution_count": null,
      "outputs": []
    },
    {
      "cell_type": "code",
      "source": [
        "print(classification_report(y_test,predictions))"
      ],
      "metadata": {
        "id": "ZQbs8JPeTZ6z"
      },
      "execution_count": null,
      "outputs": []
    },
    {
      "cell_type": "code",
      "source": [
        "plt.figure(figsize=(50,20))\n",
        "a= plot_tree(dtree,\n",
        "             feature_names=x_train.columns)"
      ],
      "metadata": {
        "id": "ZahnybwOTZ_4"
      },
      "execution_count": null,
      "outputs": []
    },
    {
      "cell_type": "markdown",
      "source": [
        "###NAIVE BAYES"
      ],
      "metadata": {
        "id": "rN-qyLKNT5mX"
      }
    },
    {
      "cell_type": "code",
      "source": [
        "import pandas as pd\n",
        "import numpy as np\n",
        "import seaborn as sns                      \n",
        "import matplotlib.pyplot as plt"
      ],
      "metadata": {
        "id": "dNGu-z0XT-P0"
      },
      "execution_count": null,
      "outputs": []
    },
    {
      "cell_type": "code",
      "source": [
        "from google.colab import drive\n",
        "drive.mount('/content/drive')"
      ],
      "metadata": {
        "id": "ViyP6YI6UBy4"
      },
      "execution_count": null,
      "outputs": []
    },
    {
      "cell_type": "code",
      "source": [
        "df = pd.read_csv(\"/content/drive/MyDrive/diabetes.csv\")\n",
        "df.head()"
      ],
      "metadata": {
        "id": "ivRQ5oMCUB2T"
      },
      "execution_count": null,
      "outputs": []
    },
    {
      "cell_type": "code",
      "source": [
        "df.drop(['DiabetesPedigreeFunction'],axis='columns',inplace=True)\n",
        "df.head()"
      ],
      "metadata": {
        "id": "EW6mz5DLUB5z"
      },
      "execution_count": null,
      "outputs": []
    },
    {
      "cell_type": "code",
      "source": [
        "df.shape"
      ],
      "metadata": {
        "id": "efJ_ZfFSUB87"
      },
      "execution_count": null,
      "outputs": []
    },
    {
      "cell_type": "code",
      "source": [
        "df.dtypes"
      ],
      "metadata": {
        "id": "LHdhb9T8UB_i"
      },
      "execution_count": null,
      "outputs": []
    },
    {
      "cell_type": "code",
      "source": [
        "df.count()"
      ],
      "metadata": {
        "id": "BMSiYpnGUCCd"
      },
      "execution_count": null,
      "outputs": []
    },
    {
      "cell_type": "code",
      "source": [
        "duplicate_rows_dt=df[df.duplicated()]\n",
        "print(\"number of duplicate rows : \", duplicate_rows_dt.shape)"
      ],
      "metadata": {
        "id": "o0d8834aUCHA"
      },
      "execution_count": null,
      "outputs": []
    },
    {
      "cell_type": "code",
      "source": [
        "df=df.drop_duplicates()"
      ],
      "metadata": {
        "id": "VUwU999nUCKQ"
      },
      "execution_count": null,
      "outputs": []
    },
    {
      "cell_type": "code",
      "source": [
        "df.count()"
      ],
      "metadata": {
        "id": "JsYsxvO2UVXH"
      },
      "execution_count": null,
      "outputs": []
    },
    {
      "cell_type": "code",
      "source": [
        "print(df.isna().sum())"
      ],
      "metadata": {
        "id": "rbtGz9CNUVbj"
      },
      "execution_count": null,
      "outputs": []
    },
    {
      "cell_type": "code",
      "source": [
        "df = df.dropna()   \n",
        "df.count()"
      ],
      "metadata": {
        "id": "ZtageQkuUVeS"
      },
      "execution_count": null,
      "outputs": []
    },
    {
      "cell_type": "code",
      "source": [
        "df.shape"
      ],
      "metadata": {
        "id": "S1KveVj0UVhC"
      },
      "execution_count": null,
      "outputs": []
    },
    {
      "cell_type": "code",
      "source": [
        "sns.boxplot(x=df['BloodPressure'])"
      ],
      "metadata": {
        "id": "GmB7CLxkUVjR"
      },
      "execution_count": null,
      "outputs": []
    },
    {
      "cell_type": "code",
      "source": [
        "Q1 = df.quantile(0.25)\n",
        "Q3 = df.quantile(0.75)\n",
        "IQR = Q3 - Q1\n",
        "print(IQR)"
      ],
      "metadata": {
        "id": "FI9HDl1qUeHQ"
      },
      "execution_count": null,
      "outputs": []
    },
    {
      "cell_type": "code",
      "source": [
        "df = df[~((df< (Q1 - 1.5 * IQR)) |(df> (Q3 + 1.5 * IQR))).any(axis=1)]\n",
        "df.shape"
      ],
      "metadata": {
        "id": "QXTCJRd7UeKq"
      },
      "execution_count": null,
      "outputs": []
    },
    {
      "cell_type": "code",
      "source": [
        "sns.boxplot(x=df['Glucose'])"
      ],
      "metadata": {
        "id": "fNvQ-ddvUeNq"
      },
      "execution_count": null,
      "outputs": []
    },
    {
      "cell_type": "code",
      "source": [
        "inputs = df.drop('Outcome',axis='columns')\n",
        "target = df.Outcome"
      ],
      "metadata": {
        "id": "_CEQ1YZoUnu4"
      },
      "execution_count": null,
      "outputs": []
    },
    {
      "cell_type": "code",
      "source": [
        "inputs.drop(['Insulin','Glucose','BloodPressure','Insulin','BMI'],axis='columns',inplace=True)\n",
        "inputs.head(3)"
      ],
      "metadata": {
        "id": "in_ahbzHUnyQ"
      },
      "execution_count": null,
      "outputs": []
    },
    {
      "cell_type": "code",
      "source": [
        "from sklearn.model_selection import train_test_split\n",
        "X_train, X_test, y_train, y_test = train_test_split(inputs,target,test_size=0.3)"
      ],
      "metadata": {
        "id": "E7OUeRN8UsuQ"
      },
      "execution_count": null,
      "outputs": []
    },
    {
      "cell_type": "code",
      "source": [
        "len(X_train)"
      ],
      "metadata": {
        "id": "i8_kcC2RUsw1"
      },
      "execution_count": null,
      "outputs": []
    },
    {
      "cell_type": "code",
      "source": [
        "len(X_test)"
      ],
      "metadata": {
        "id": "Sfoye2O4Us1u"
      },
      "execution_count": null,
      "outputs": []
    },
    {
      "cell_type": "code",
      "source": [
        "len(inputs)"
      ],
      "metadata": {
        "id": "97BAjRL2Us4Y"
      },
      "execution_count": null,
      "outputs": []
    },
    {
      "cell_type": "code",
      "source": [
        "from sklearn.naive_bayes import GaussianNB\n",
        "model = GaussianNB()"
      ],
      "metadata": {
        "id": "uAbf5ydJUs62"
      },
      "execution_count": null,
      "outputs": []
    },
    {
      "cell_type": "code",
      "source": [
        "model.fit(X_train,y_train)"
      ],
      "metadata": {
        "id": "bQAavbS9U2Po"
      },
      "execution_count": null,
      "outputs": []
    },
    {
      "cell_type": "code",
      "source": [
        "model.score(X_test,y_test)"
      ],
      "metadata": {
        "id": "X0IjqNJbU2UA"
      },
      "execution_count": null,
      "outputs": []
    },
    {
      "cell_type": "code",
      "source": [
        "X_test[0:10]"
      ],
      "metadata": {
        "id": "ZHo9SLi2U2aR"
      },
      "execution_count": null,
      "outputs": []
    },
    {
      "cell_type": "code",
      "source": [
        "y_test[0:10]"
      ],
      "metadata": {
        "id": "Zn86DU29VDJB"
      },
      "execution_count": null,
      "outputs": []
    },
    {
      "cell_type": "code",
      "source": [
        "model.predict(X_test[0:10])"
      ],
      "metadata": {
        "id": "Sc674KS8VDL7"
      },
      "execution_count": null,
      "outputs": []
    },
    {
      "cell_type": "code",
      "source": [
        "model.predict_proba(X_test[0:10])"
      ],
      "metadata": {
        "id": "PI5bHTLeVDOm"
      },
      "execution_count": null,
      "outputs": []
    },
    {
      "cell_type": "code",
      "source": [
        "from sklearn.metrics import confusion_matrix\n",
        "y_pred = model.predict(X_test)\n",
        "cm=confusion_matrix(y_test, y_pred)\n",
        "cm"
      ],
      "metadata": {
        "id": "70R0S__-VSUp"
      },
      "execution_count": null,
      "outputs": []
    },
    {
      "cell_type": "code",
      "source": [
        "from sklearn.metrics import classification_report\n",
        "print (classification_report(y_test, y_pred))"
      ],
      "metadata": {
        "id": "Hc83uXtXVWKZ"
      },
      "execution_count": null,
      "outputs": []
    },
    {
      "cell_type": "markdown",
      "source": [
        "###MULTIPLE REGRESSION"
      ],
      "metadata": {
        "id": "kYsRJzSyVuax"
      }
    },
    {
      "cell_type": "code",
      "source": [
        "import pandas as pd\n",
        "import numpy as np\n",
        "import seaborn as sns                       \n",
        "import matplotlib.pyplot as plt"
      ],
      "metadata": {
        "id": "EusSP2lLVxkF"
      },
      "execution_count": null,
      "outputs": []
    },
    {
      "cell_type": "code",
      "source": [
        "df=pd.read_csv('/content/drive/MyDrive/2.csv')"
      ],
      "metadata": {
        "id": "Fqx39S_0V0W5"
      },
      "execution_count": null,
      "outputs": []
    },
    {
      "cell_type": "code",
      "source": [
        "df.head()"
      ],
      "metadata": {
        "id": "6-AoKM74V0Z7"
      },
      "execution_count": null,
      "outputs": []
    },
    {
      "cell_type": "code",
      "source": [
        "df.dtypes"
      ],
      "metadata": {
        "id": "CMP1YaFqV0e0"
      },
      "execution_count": null,
      "outputs": []
    },
    {
      "cell_type": "code",
      "source": [
        "df.shape"
      ],
      "metadata": {
        "id": "LX7Z4dS0V0hk"
      },
      "execution_count": null,
      "outputs": []
    },
    {
      "cell_type": "code",
      "source": [
        "duplicate_rows_df =df[df.duplicated()]\n",
        "print(\"number of duplicate rows: \", duplicate_rows_df.shape)"
      ],
      "metadata": {
        "id": "gJzdXABYV0kY"
      },
      "execution_count": null,
      "outputs": []
    },
    {
      "cell_type": "code",
      "source": [
        "df.count()"
      ],
      "metadata": {
        "id": "a9YmkDG6V0mK"
      },
      "execution_count": null,
      "outputs": []
    },
    {
      "cell_type": "code",
      "source": [
        "df = df.drop_duplicates()\n",
        "df.count()"
      ],
      "metadata": {
        "id": "pu2EeZ5YV0oM"
      },
      "execution_count": null,
      "outputs": []
    },
    {
      "cell_type": "code",
      "source": [
        "print(df.isnull().sum())"
      ],
      "metadata": {
        "id": "MPQeNqyiV0qh"
      },
      "execution_count": null,
      "outputs": []
    },
    {
      "cell_type": "code",
      "source": [
        "sns.boxplot(x=df['Curah Hujan (mm)'])"
      ],
      "metadata": {
        "id": "Kb26ohpeV0sg"
      },
      "execution_count": null,
      "outputs": []
    },
    {
      "cell_type": "code",
      "source": [
        "Q1 = df.quantile(0.25)\n",
        "Q3 = df.quantile(0.75)\n",
        "IQR = Q3 - Q1\n",
        "print(IQR)"
      ],
      "metadata": {
        "id": "GGADxeXUWEB4"
      },
      "execution_count": null,
      "outputs": []
    },
    {
      "cell_type": "code",
      "source": [
        "df = df[~((df < (Q1 - 1.5 * IQR)) |(df > (Q3 + 1.5 * IQR))).any(axis=1)]\n",
        "df.shape"
      ],
      "metadata": {
        "id": "gjNbL8IzWEE0"
      },
      "execution_count": null,
      "outputs": []
    },
    {
      "cell_type": "code",
      "source": [
        "sns.boxplot(x=df['Curah Hujan (mm)'])"
      ],
      "metadata": {
        "id": "08opGf6aWItX"
      },
      "execution_count": null,
      "outputs": []
    },
    {
      "cell_type": "code",
      "source": [
        "plt.figure(figsize=(10,5))\n",
        "c= df.corr()\n",
        "sns.heatmap(c,cmap=\"BrBG\",annot=True)\n",
        "c"
      ],
      "metadata": {
        "id": "hjVnRLunWIv5"
      },
      "execution_count": null,
      "outputs": []
    },
    {
      "cell_type": "code",
      "source": [
        "from sklearn.linear_model import LinearRegression\n",
        "from sklearn.model_selection import train_test_split\n",
        "X=np.array(df[\"Curah Hujan (mm)\"]).reshape(-1,1)\n",
        "Y=np.array(df[\"Penjualan (pcs)\"])\n",
        "x_train,x_test,y_train,y_test=train_test_split(X,Y,test_size=0.2)"
      ],
      "metadata": {
        "id": "tt7S4uEoWNW-"
      },
      "execution_count": null,
      "outputs": []
    },
    {
      "cell_type": "code",
      "source": [
        "lin_reg = LinearRegression()\n",
        "lin_reg.fit(x_train,y_train)"
      ],
      "metadata": {
        "id": "k_kpV0Q_WNbw"
      },
      "execution_count": null,
      "outputs": []
    },
    {
      "cell_type": "code",
      "source": [
        "lin_reg.predict(x_test)"
      ],
      "metadata": {
        "id": "rrjMUzBsWNeC"
      },
      "execution_count": null,
      "outputs": []
    },
    {
      "cell_type": "markdown",
      "source": [
        "###K-NEAREST NEIGHBOUR(KNN)"
      ],
      "metadata": {
        "id": "eCxDhffAWdEg"
      }
    },
    {
      "cell_type": "code",
      "source": [
        "import pandas as pd\n",
        "import numpy as np\n",
        "from sklearn.model_selection import train_test_split\n",
        "from sklearn.preprocessing import StandardScaler\n",
        "from sklearn.neighbors import KNeighborsClassifier\n",
        "from sklearn.metrics import confusion_matrix\n",
        "from sklearn.metrics import f1_score\n",
        "from sklearn.metrics import accuracy_score "
      ],
      "metadata": {
        "id": "UPFXsGUmWkge"
      },
      "execution_count": null,
      "outputs": []
    },
    {
      "cell_type": "code",
      "source": [
        "dt = pd.read_csv('/content/drive/MyDrive/diabetes.csv')"
      ],
      "metadata": {
        "id": "7QB_oHIVWpda"
      },
      "execution_count": null,
      "outputs": []
    },
    {
      "cell_type": "code",
      "source": [
        "len(dt)\n",
        "dt.head()"
      ],
      "metadata": {
        "id": "NvtUaKgwWpgm"
      },
      "execution_count": null,
      "outputs": []
    },
    {
      "cell_type": "code",
      "source": [
        "dt.dtypes"
      ],
      "metadata": {
        "id": "bUZOksShWpjU"
      },
      "execution_count": null,
      "outputs": []
    },
    {
      "cell_type": "code",
      "source": [
        "dt.shape"
      ],
      "metadata": {
        "id": "5Qb474ThWplr"
      },
      "execution_count": null,
      "outputs": []
    },
    {
      "cell_type": "code",
      "source": [
        "duplicate_rows_df = dt[dt.duplicated()]\n",
        "print(\"number of duplicate rows: \", duplicate_rows_df.shape)"
      ],
      "metadata": {
        "id": "DHwMIZS2WpoZ"
      },
      "execution_count": null,
      "outputs": []
    },
    {
      "cell_type": "code",
      "source": [
        "dt.count()"
      ],
      "metadata": {
        "id": "o512pSjbWpq7"
      },
      "execution_count": null,
      "outputs": []
    },
    {
      "cell_type": "code",
      "source": [
        "dt = dt.drop_duplicates()\n",
        "dt.head(3)"
      ],
      "metadata": {
        "id": "cXvJG1E4Wptp"
      },
      "execution_count": null,
      "outputs": []
    },
    {
      "cell_type": "code",
      "source": [
        "dt.count()"
      ],
      "metadata": {
        "id": "M6HGzBseWpwJ"
      },
      "execution_count": null,
      "outputs": []
    },
    {
      "cell_type": "code",
      "source": [
        "print(dt.isnull().sum())"
      ],
      "metadata": {
        "id": "DIPDcuqyWpyd"
      },
      "execution_count": null,
      "outputs": []
    },
    {
      "cell_type": "code",
      "source": [
        "import seaborn as sns \n",
        "sns.boxplot(x=dt['BMI'])"
      ],
      "metadata": {
        "id": "qW_Jh9ffWp0y"
      },
      "execution_count": null,
      "outputs": []
    },
    {
      "cell_type": "code",
      "source": [
        "Q1 = dt.quantile(0.25)\n",
        "Q3 = dt.quantile(0.75)\n",
        "IQR = Q3 - Q1\n",
        "print(IQR)"
      ],
      "metadata": {
        "id": "xtDFi996Wp3N"
      },
      "execution_count": null,
      "outputs": []
    },
    {
      "cell_type": "code",
      "source": [
        "dt = dt[~((dt < (Q1 - 1.5 * IQR)) |(dt > (Q3 + 1.5 * IQR))).any(axis=1)]\n",
        "dt.shape"
      ],
      "metadata": {
        "id": "YycVB7F-Wp5q"
      },
      "execution_count": null,
      "outputs": []
    },
    {
      "cell_type": "code",
      "source": [
        "sns.boxplot(x=dt['BMI'])"
      ],
      "metadata": {
        "id": "zVt1MonNWp7x"
      },
      "execution_count": null,
      "outputs": []
    },
    {
      "cell_type": "code",
      "source": [
        "sns.countplot(data=dt,x='Outcome')"
      ],
      "metadata": {
        "id": "UrQc1wEPWp-A"
      },
      "execution_count": null,
      "outputs": []
    },
    {
      "cell_type": "code",
      "source": [
        "import matplotlib.pyplot as plt \n",
        "plt.figure(figsize=(10,5))\n",
        "c= dt.corr()\n",
        "sns.heatmap(c,cmap=\"BrBG\",annot=True)\n",
        "c"
      ],
      "metadata": {
        "id": "_XKsfuyxXc1Z"
      },
      "execution_count": null,
      "outputs": []
    },
    {
      "cell_type": "code",
      "source": [
        "sns.boxplot(x=\"Age\", y=\"BMI\", data=dt)"
      ],
      "metadata": {
        "id": "pRGkct_TXc4j"
      },
      "execution_count": null,
      "outputs": []
    },
    {
      "cell_type": "code",
      "source": [
        "sns.pairplot(dt, vars=[\"Pregnancies\", \"Glucose\",\"BloodPressure\",\"SkinThickness\",\"Insulin\", \"BMI\",\"DiabetesPedigreeFunction\", \"Age\"],hue=\"Outcome\")\n",
        "plt.title(\"Pairplot of Variables by Outcome\")"
      ],
      "metadata": {
        "id": "MbNJFK-hXg9R"
      },
      "execution_count": null,
      "outputs": []
    },
    {
      "cell_type": "code",
      "source": [
        "gten=dt.Glucose.head(10)\n",
        "aten=dt.Age.head(10)\n",
        "plt.plot(aten,gten,'s--r')\n",
        "plt.xlabel('age')\n",
        "plt.ylabel('glucose')\n",
        "plt.title('Relation btw age and glucose of ten members');"
      ],
      "metadata": {
        "id": "oOc-3yD4Xg__"
      },
      "execution_count": null,
      "outputs": []
    },
    {
      "cell_type": "code",
      "source": [
        "# Replace zeroes\n",
        "zero_not_accepted = ['Glucose', 'BloodPressure', 'SkinThickness', 'BMI', 'Insulin']"
      ],
      "metadata": {
        "id": "rIhu-ZKnXnnP"
      },
      "execution_count": null,
      "outputs": []
    },
    {
      "cell_type": "code",
      "source": [
        "# split dataset\n",
        "X = dt.iloc[:, 0:8]\n",
        "y = dt.iloc[:, 8]\n",
        "X_train, X_test, y_train, y_test = train_test_split(X, y, random_state=0, test_size=0.2)"
      ],
      "metadata": {
        "id": "UN4MnKorXnqv"
      },
      "execution_count": null,
      "outputs": []
    },
    {
      "cell_type": "code",
      "source": [
        "# no of training data\n",
        "len(X_train)"
      ],
      "metadata": {
        "id": "cLlY6reFXnz2"
      },
      "execution_count": null,
      "outputs": []
    },
    {
      "cell_type": "code",
      "source": [
        "# no of testing data\n",
        "len(X_test)"
      ],
      "metadata": {
        "id": "KMPhuvXtXwx-"
      },
      "execution_count": null,
      "outputs": []
    },
    {
      "cell_type": "code",
      "source": [
        "# create KNN classifier with euclidean distance formula\n",
        "from sklearn.neighbors import KNeighborsClassifier\n",
        "knn=KNeighborsClassifier(n_neighbors=7, metric ='euclidean')\n",
        "knn.fit(X_train, y_train)"
      ],
      "metadata": {
        "id": "9rmreF-EXw5l"
      },
      "execution_count": null,
      "outputs": []
    },
    {
      "cell_type": "code",
      "source": [
        "# calculating test score\n",
        "knn.score(X_test, y_test)"
      ],
      "metadata": {
        "id": "vInqFYF0Xw8-"
      },
      "execution_count": null,
      "outputs": []
    },
    {
      "cell_type": "code",
      "source": [
        "# calculating training score\n",
        "knn.score(X_train, y_train)"
      ],
      "metadata": {
        "id": "JYtwUtt9Xw_m"
      },
      "execution_count": null,
      "outputs": []
    },
    {
      "cell_type": "code",
      "source": [
        "# create KNN classifier with manhattan distance formula\n",
        "from sklearn.neighbors import KNeighborsClassifier\n",
        "knn=KNeighborsClassifier(n_neighbors=3, metric ='manhattan')\n",
        "knn.fit(X_train, y_train)"
      ],
      "metadata": {
        "id": "UsIvwSdGXxCH"
      },
      "execution_count": null,
      "outputs": []
    },
    {
      "cell_type": "code",
      "source": [
        "# calculating test score\n",
        "knn.score(X_test, y_test)"
      ],
      "metadata": {
        "id": "c_raEX4zX5U3"
      },
      "execution_count": null,
      "outputs": []
    },
    {
      "cell_type": "code",
      "source": [
        "# calculating training score\n",
        "knn.score(X_train, y_train)"
      ],
      "metadata": {
        "id": "s2NzFxvPX5X0"
      },
      "execution_count": null,
      "outputs": []
    },
    {
      "cell_type": "code",
      "source": [
        "# create KNN classifier with cosine diatance formula\n",
        "from sklearn.neighbors import KNeighborsClassifier\n",
        "knn=KNeighborsClassifier(n_neighbors=8, metric ='cosine')\n",
        "knn.fit(X_train, y_train)"
      ],
      "metadata": {
        "id": "Uyrymjj0X96A"
      },
      "execution_count": null,
      "outputs": []
    },
    {
      "cell_type": "code",
      "source": [
        "# calculating test score\n",
        "knn.score(X_test, y_test)"
      ],
      "metadata": {
        "id": "F2AhPa5_X98x"
      },
      "execution_count": null,
      "outputs": []
    },
    {
      "cell_type": "code",
      "source": [
        "# calculating training score\n",
        "knn.score(X_train, y_train)"
      ],
      "metadata": {
        "id": "vXSG0Y6VX9_X"
      },
      "execution_count": null,
      "outputs": []
    },
    {
      "cell_type": "code",
      "source": [
        "# create KNN classifier with canberra formula\n",
        "from sklearn.neighbors import KNeighborsClassifier\n",
        "knn=KNeighborsClassifier(n_neighbors=3, metric ='canberra')\n",
        "knn.fit(X_train, y_train)"
      ],
      "metadata": {
        "id": "Kt5BGayIX-D5"
      },
      "execution_count": null,
      "outputs": []
    },
    {
      "cell_type": "code",
      "source": [
        "# calculating test score\n",
        "knn.score(X_test, y_test)"
      ],
      "metadata": {
        "id": "-a2X4rYMYHbp"
      },
      "execution_count": null,
      "outputs": []
    },
    {
      "cell_type": "code",
      "source": [
        " #calculating training score\n",
        "knn.score(X_train, y_train)"
      ],
      "metadata": {
        "id": "XKW7SKqNYHfQ"
      },
      "execution_count": null,
      "outputs": []
    },
    {
      "cell_type": "code",
      "source": [
        "import numpy\n",
        "from sklearn import metrics\n",
        "\n",
        "actual = numpy.random.binomial(1,.9,size = 1000)\n",
        "predicted = numpy.random.binomial(1,.9,size = 1000)\n",
        "\n",
        "Accuracy = metrics.accuracy_score(actual, predicted)\n",
        "\n",
        "print(Accuracy)"
      ],
      "metadata": {
        "id": "4us_wT6GYHkm"
      },
      "execution_count": null,
      "outputs": []
    },
    {
      "cell_type": "code",
      "source": [
        "# confusion matrix \n",
        "from sklearn.metrics import confusion_matrix\n",
        "y_pred = knn.predict(X_test)\n",
        "cm=confusion_matrix(y_test, y_pred)\n",
        "cm"
      ],
      "metadata": {
        "id": "1gfRM19TYHoq"
      },
      "execution_count": null,
      "outputs": []
    },
    {
      "cell_type": "code",
      "source": [
        "# classification report\n",
        "from sklearn.metrics import classification_report\n",
        "print (classification_report(y_test, y_pred))"
      ],
      "metadata": {
        "id": "8mC7ZySxYHrM"
      },
      "execution_count": null,
      "outputs": []
    },
    {
      "cell_type": "markdown",
      "source": [
        "###LINEAR REGGRESSION"
      ],
      "metadata": {
        "id": "uIqyzciyYXl2"
      }
    },
    {
      "cell_type": "code",
      "source": [
        "import pandas as pd\n",
        "import matplotlib.pyplot as plt\n",
        "import seaborn as sns\n",
        "import numpy as np"
      ],
      "metadata": {
        "id": "ByGn1w_VX-Gl"
      },
      "execution_count": null,
      "outputs": []
    },
    {
      "cell_type": "code",
      "source": [
        "from google.colab import drive\n",
        "drive.mount('/content/drive')"
      ],
      "metadata": {
        "id": "SH85h_CzYtaf"
      },
      "execution_count": null,
      "outputs": []
    },
    {
      "cell_type": "code",
      "source": [
        "df=pd.read_csv('/content/drive/MyDrive/USA_Housing.csv')\n",
        "df.head()"
      ],
      "metadata": {
        "id": "D1fnX8rpYtdb"
      },
      "execution_count": null,
      "outputs": []
    },
    {
      "cell_type": "code",
      "source": [
        "df.shape"
      ],
      "metadata": {
        "id": "m-Z2dG2wYtf8"
      },
      "execution_count": null,
      "outputs": []
    },
    {
      "cell_type": "code",
      "source": [
        "df.info()"
      ],
      "metadata": {
        "id": "DvJkqUy5Ytiv"
      },
      "execution_count": null,
      "outputs": []
    },
    {
      "cell_type": "code",
      "source": [
        "df.describe()"
      ],
      "metadata": {
        "id": "hqu0dw9VYtnR"
      },
      "execution_count": null,
      "outputs": []
    },
    {
      "cell_type": "code",
      "source": [
        "duplicate_rows_df = df[df.duplicated()]\n",
        "print(\"number of duplicate rows: \", duplicate_rows_df.shape)"
      ],
      "metadata": {
        "id": "soEinwjtYtqE"
      },
      "execution_count": null,
      "outputs": []
    },
    {
      "cell_type": "code",
      "source": [
        "sns.histplot(df['Area Population'])"
      ],
      "metadata": {
        "id": "f7s0-8vSYtsd"
      },
      "execution_count": null,
      "outputs": []
    },
    {
      "cell_type": "code",
      "source": [
        "sns.histplot(df['Avg. Area Number of Rooms'])"
      ],
      "metadata": {
        "id": "RjSjHqk7Ytu8"
      },
      "execution_count": null,
      "outputs": []
    },
    {
      "cell_type": "code",
      "source": [
        "sns.boxplot(x=df['Avg. Area Income'])"
      ],
      "metadata": {
        "id": "FFGmYY0oYtxk"
      },
      "execution_count": null,
      "outputs": []
    },
    {
      "cell_type": "code",
      "source": [
        "sns.heatmap(df.corr(),cmap=\"YlOrRd\", annot = True)\n",
        "plt.show()"
      ],
      "metadata": {
        "id": "kzl1hEymYtzp"
      },
      "execution_count": null,
      "outputs": []
    },
    {
      "cell_type": "code",
      "source": [
        "X = df['Area Population']\n",
        "y = df['Avg. Area Number of Rooms']"
      ],
      "metadata": {
        "id": "60JMtI7kYt2N"
      },
      "execution_count": null,
      "outputs": []
    },
    {
      "cell_type": "code",
      "source": [
        "from sklearn.model_selection import train_test_split\n",
        "X_train, X_test, y_train, y_test = train_test_split(X,y ,test_size =0.2,random_state=66)"
      ],
      "metadata": {
        "id": "ItFww8H2Yt4h"
      },
      "execution_count": null,
      "outputs": []
    },
    {
      "cell_type": "code",
      "source": [
        "len(X_train)"
      ],
      "metadata": {
        "id": "XeKrLy-LZFyI"
      },
      "execution_count": null,
      "outputs": []
    },
    {
      "cell_type": "code",
      "source": [
        "len(X_test)"
      ],
      "metadata": {
        "id": "E8mw_YeiZF2d"
      },
      "execution_count": null,
      "outputs": []
    },
    {
      "cell_type": "code",
      "source": [
        "X_train = X_train[:,np.newaxis]\n",
        "X_test = X_test[:,np.newaxis]"
      ],
      "metadata": {
        "id": "gqJ6beMzZF5C"
      },
      "execution_count": null,
      "outputs": []
    },
    {
      "cell_type": "code",
      "source": [
        "from sklearn.linear_model import LinearRegression\n",
        "model = LinearRegression()\n",
        "model.fit(X_train, y_train)"
      ],
      "metadata": {
        "id": "ziHfLYGkZF8i"
      },
      "execution_count": null,
      "outputs": []
    },
    {
      "cell_type": "code",
      "source": [
        "y_pred = model.predict(X_test)"
      ],
      "metadata": {
        "id": "z7ywSekFZNqI"
      },
      "execution_count": null,
      "outputs": []
    },
    {
      "cell_type": "code",
      "source": [
        "from sklearn import metrics\n",
        "accuracy = model.score(X_test,y_test)\n",
        "print(accuracy*100,'%')"
      ],
      "metadata": {
        "id": "qmuL1odBZNs9"
      },
      "execution_count": null,
      "outputs": []
    },
    {
      "cell_type": "code",
      "source": [
        "from sklearn.metrics import r2_score,mean_squared_error"
      ],
      "metadata": {
        "id": "wyyS6iEVZNw_"
      },
      "execution_count": null,
      "outputs": []
    },
    {
      "cell_type": "code",
      "source": [
        "mse = mean_squared_error(y_test,y_pred)\n",
        "rsq = r2_score(y_test,y_pred)\n",
        "print('mean squared error :',mse)\n",
        "print('r square :',rsq)"
      ],
      "metadata": {
        "id": "ubEMjkTYZN0A"
      },
      "execution_count": null,
      "outputs": []
    },
    {
      "cell_type": "code",
      "source": [
        "plt.figure(figsize=(12,6))\n",
        "plt.scatter(y_test,y_pred,color='G',linestyle='-')\n",
        "plt.show()"
      ],
      "metadata": {
        "id": "nm3Qo_kJZWCA"
      },
      "execution_count": null,
      "outputs": []
    },
    {
      "cell_type": "code",
      "source": [
        "print('Intercept of the model:',model.intercept_)\n",
        "print('Coefficient of the line:',model.coef_)"
      ],
      "metadata": {
        "id": "Jo_sbGFLZWFU"
      },
      "execution_count": null,
      "outputs": []
    },
    {
      "cell_type": "code",
      "source": [
        "import pickle\n",
        "pickle.dump(model, open('model.pkl','wb'))\n",
        "\n",
        "model = pickle.load(open('model.pkl','rb'))\n",
        "print(model.predict([[170]]))"
      ],
      "metadata": {
        "id": "pNB5bxXDZWH2"
      },
      "execution_count": null,
      "outputs": []
    },
    {
      "cell_type": "markdown",
      "source": [
        "###RANDOM FOREST"
      ],
      "metadata": {
        "id": "jkuoyIPdZr4D"
      }
    },
    {
      "cell_type": "code",
      "source": [
        "# importing the libraries\n",
        "import numpy as np\n",
        "import pandas as pd\n",
        "import matplotlib.pyplot as plt\n",
        "import seaborn as sns\n",
        "from sklearn.model_selection import train_test_split\n",
        "from sklearn.ensemble import RandomForestClassifier\n",
        "from sklearn.metrics import confusion_matrix\n",
        "from sklearn import metrics\n",
        "from sklearn.metrics import accuracy_score, confusion_matrix, classification_report, plot_confusion_matrix\n",
        "from sklearn.metrics import precision_recall_curve, plot_precision_recall_curve, plot_roc_curve\n"
      ],
      "metadata": {
        "id": "arrdVFPzZvSw"
      },
      "execution_count": null,
      "outputs": []
    },
    {
      "cell_type": "code",
      "source": [
        "from google.colab import drive\n",
        "drive.mount('/content/drive')"
      ],
      "metadata": {
        "id": "P08K3YYvZyuc"
      },
      "execution_count": null,
      "outputs": []
    },
    {
      "cell_type": "code",
      "source": [
        "df = pd.read_csv('/content/drive/MyDrive/test.csv')\n",
        "\n",
        "df.head()"
      ],
      "metadata": {
        "id": "shq2QsiJZyxe"
      },
      "execution_count": null,
      "outputs": []
    },
    {
      "cell_type": "code",
      "source": [
        "df.shape"
      ],
      "metadata": {
        "id": "jSCM156VZy0X"
      },
      "execution_count": null,
      "outputs": []
    },
    {
      "cell_type": "code",
      "source": [
        "df.info()"
      ],
      "metadata": {
        "id": "vbDTZNqUZy2v"
      },
      "execution_count": null,
      "outputs": []
    },
    {
      "cell_type": "code",
      "source": [
        "duplicate_rows_df = df[df.duplicated()]\n",
        "print(\"number of duplicate rows: \", duplicate_rows_df.shape)"
      ],
      "metadata": {
        "id": "eLs_A_3IZy5f"
      },
      "execution_count": null,
      "outputs": []
    },
    {
      "cell_type": "code",
      "source": [
        "df = df.drop(['POSTED_BY','BHK_OR_RK','ADDRESS'],axis=1) "
      ],
      "metadata": {
        "id": "T8AJL0zjZy7j"
      },
      "execution_count": null,
      "outputs": []
    },
    {
      "cell_type": "code",
      "source": [
        "df.describe()"
      ],
      "metadata": {
        "id": "ajVKSzyqZy-X"
      },
      "execution_count": null,
      "outputs": []
    },
    {
      "cell_type": "code",
      "source": [
        "sns.histplot(df['RESALE'])"
      ],
      "metadata": {
        "id": "WmKnD2zsZzA8"
      },
      "execution_count": null,
      "outputs": []
    },
    {
      "cell_type": "code",
      "source": [
        "sns.boxplot(x=df['BHK_NO.'])"
      ],
      "metadata": {
        "id": "QHDF81UyZzC4"
      },
      "execution_count": null,
      "outputs": []
    },
    {
      "cell_type": "code",
      "source": [
        "fig = plt.figure(figsize = (8,7))\n",
        "data_ploting = df.corr(method= 'pearson')\n",
        "sns.heatmap(data_ploting, cmap='Wistia', linecolor='Green', linewidths= 2 )"
      ],
      "metadata": {
        "id": "6VCHGKYjZzFS"
      },
      "execution_count": null,
      "outputs": []
    },
    {
      "cell_type": "code",
      "source": [
        "X = df.drop('RESALE', axis = 1)\n",
        "y = df['RESALE']"
      ],
      "metadata": {
        "id": "ZejhGqJYZzJT"
      },
      "execution_count": null,
      "outputs": []
    },
    {
      "cell_type": "code",
      "source": [
        "X_train, X_test, y_train, y_test = train_test_split(X,y ,test_size =0.2,random_state=66)"
      ],
      "metadata": {
        "id": "MMJZgSiUZzLv"
      },
      "execution_count": null,
      "outputs": []
    },
    {
      "cell_type": "code",
      "source": [
        "len(X_train)"
      ],
      "metadata": {
        "id": "b0uQWJZFaOTK"
      },
      "execution_count": null,
      "outputs": []
    },
    {
      "cell_type": "code",
      "source": [
        "len(X_test)"
      ],
      "metadata": {
        "id": "6yI27OuIaOWF"
      },
      "execution_count": null,
      "outputs": []
    },
    {
      "cell_type": "code",
      "source": [
        "Randomforest_model = RandomForestClassifier(n_estimators=100, max_features='auto', random_state=101)\n",
        "Randomforest_model.fit(X_train,y_train)"
      ],
      "metadata": {
        "id": "OmUfkwsMaOYh"
      },
      "execution_count": null,
      "outputs": []
    },
    {
      "cell_type": "code",
      "source": [
        "y_pred = Randomforest_model.predict(X_test)\n",
        "print(y_pred)"
      ],
      "metadata": {
        "id": "UQIQaahmaSvJ"
      },
      "execution_count": null,
      "outputs": []
    },
    {
      "cell_type": "code",
      "source": [
        "accuracy_score(y_test, y_pred)"
      ],
      "metadata": {
        "id": "fPOwEiJkaSz6"
      },
      "execution_count": null,
      "outputs": []
    },
    {
      "cell_type": "code",
      "source": [
        "confusion_matrix(y_test, y_pred)"
      ],
      "metadata": {
        "id": "4O18L8oCaS2b"
      },
      "execution_count": null,
      "outputs": []
    },
    {
      "cell_type": "code",
      "source": [
        "print(classification_report(y_test, y_pred))"
      ],
      "metadata": {
        "id": "WarD3CJcaS68"
      },
      "execution_count": null,
      "outputs": []
    },
    {
      "cell_type": "markdown",
      "source": [
        "###K-MEANS CLUSTERING"
      ],
      "metadata": {
        "id": "lXeyIDWea5ek"
      }
    },
    {
      "cell_type": "code",
      "source": [
        "import pandas as pd\n",
        "import numpy as np\n",
        "import matplotlib.pyplot as plt\n",
        "import seaborn as sns\n",
        "%matplotlib inline"
      ],
      "metadata": {
        "id": "W--WbQGiaS9h"
      },
      "execution_count": null,
      "outputs": []
    },
    {
      "cell_type": "code",
      "source": [
        "df= pd.DataFrame(pd.read_csv(\"/content/drive/MyDrive/Mall_Customers.csv\"))\n",
        "df.head()"
      ],
      "metadata": {
        "id": "xlPWNaNxbA9t"
      },
      "execution_count": null,
      "outputs": []
    },
    {
      "cell_type": "code",
      "source": [
        "df.shape"
      ],
      "metadata": {
        "id": "bgohdbENbBC2"
      },
      "execution_count": null,
      "outputs": []
    },
    {
      "cell_type": "code",
      "source": [
        "df.info()"
      ],
      "metadata": {
        "id": "3vA84H-zbBFt"
      },
      "execution_count": null,
      "outputs": []
    },
    {
      "cell_type": "code",
      "source": [
        "df.describe()"
      ],
      "metadata": {
        "id": "pBnyxTiMbBIg"
      },
      "execution_count": null,
      "outputs": []
    },
    {
      "cell_type": "code",
      "source": [
        "duplicate_rows_df = df[df.duplicated()]\n",
        "print(\"number of duplicate rows: \", duplicate_rows_df.shape)"
      ],
      "metadata": {
        "id": "Ebu31ckibBLc"
      },
      "execution_count": null,
      "outputs": []
    },
    {
      "cell_type": "code",
      "source": [
        "plt.rcParams['figure.figsize'] = (14, 8)\n",
        "sns.countplot(df['Annual Income (k$)'], palette = 'rainbow')\n",
        "plt.title('Distribution of Annual Income', fontsize = 15)\n",
        "plt.show()"
      ],
      "metadata": {
        "id": "UeDsReU_bBOb"
      },
      "execution_count": null,
      "outputs": []
    },
    {
      "cell_type": "code",
      "source": [
        "plt.rcParams['figure.figsize'] = (14, 8)\n",
        "sns.countplot(df['Spending Score (1-100)'],)\n",
        "plt.title('Distribution Graph of Spending Score', fontsize = 15)\n",
        "plt.show()"
      ],
      "metadata": {
        "id": "nZjyUhRDbBRS"
      },
      "execution_count": null,
      "outputs": []
    },
    {
      "cell_type": "code",
      "source": [
        "labels = ['Female', 'Male']\n",
        "size = df['Gender'].value_counts()\n",
        "colors = ['Blue','orange']\n",
        "explode = [0, 0.2]\n",
        "\n",
        "plt.rcParams['figure.figsize'] = (5, 5)\n",
        "plt.pie(size, colors = colors, explode = explode, labels = labels, shadow = True, autopct = '%.2f%%')\n",
        "plt.title('Gender', fontsize = 15)\n",
        "plt.axis('off')\n",
        "plt.legend()\n",
        "plt.show()"
      ],
      "metadata": {
        "id": "x0QGjXGLbBTu"
      },
      "execution_count": null,
      "outputs": []
    },
    {
      "cell_type": "code",
      "source": [
        "sns.pairplot(df)\n",
        "plt.title('Pairplot for the Data', fontsize = 15)\n",
        "plt.show()"
      ],
      "metadata": {
        "id": "MAgf5rCnbBWf"
      },
      "execution_count": null,
      "outputs": []
    },
    {
      "cell_type": "code",
      "source": [
        "sns.heatmap(df.corr(), annot=True).set_title('Correlation Factors Heat Map', size='15')"
      ],
      "metadata": {
        "id": "bWU5O6htbBY8"
      },
      "execution_count": null,
      "outputs": []
    },
    {
      "cell_type": "code",
      "source": [
        "x = df.iloc[:, [3, 4]].values\n",
        "x.shape"
      ],
      "metadata": {
        "id": "lRyh1d1vbBbc"
      },
      "execution_count": null,
      "outputs": []
    },
    {
      "cell_type": "code",
      "source": [
        "from sklearn.cluster import KMeans\n",
        "wcss = []\n",
        "for i in range(1, 11):\n",
        "    km = KMeans(n_clusters = i, init = 'k-means++', max_iter = 300, n_init = 10, random_state = 0)\n",
        "    km.fit(x)\n",
        "    wcss.append(km.inertia_)\n",
        "    \n",
        "plt.plot(range(1, 11), wcss)\n",
        "plt.rcParams['figure.figsize'] = (16, 8)\n",
        "plt.title('The Elbow Method', fontsize = 20)\n",
        "plt.xlabel('No. of Clusters')\n",
        "plt.ylabel('wcss')\n",
        "plt.show()"
      ],
      "metadata": {
        "id": "SBIOs6kwbBdu"
      },
      "execution_count": null,
      "outputs": []
    },
    {
      "cell_type": "code",
      "source": [
        "# 'green', label = 'miser'\n",
        "# yellow', label = 'general'\n",
        "# 'cyan', label = 'target'\n",
        "#  'magenta', label = 'spendthrift' \n",
        "#  'orange', label = 'careful'\n",
        "\n",
        "km = KMeans(n_clusters = 5, init = 'k-means++', max_iter = 300, n_init = 10, random_state = 0)\n",
        "y_means = km.fit_predict(x)\n",
        "\n",
        "plt.scatter(x[y_means == 0, 0], x[y_means == 0, 1], s = 100, c = 'green', label = 'Cluster 1')\n",
        "plt.scatter(x[y_means == 1, 0], x[y_means == 1, 1], s = 100, c = 'yellow', label = 'Cluster 2')\n",
        "plt.scatter(x[y_means == 2, 0], x[y_means == 2, 1], s = 100, c = 'cyan', label = 'Cluster 3')\n",
        "plt.scatter(x[y_means == 3, 0], x[y_means == 3, 1], s = 100, c = 'magenta', label = 'Cluster 4')\n",
        "plt.scatter(x[y_means == 4, 0], x[y_means == 4, 1], s = 100, c = 'orange', label = 'Cluster 5')\n",
        "plt.scatter(km.cluster_centers_[:,0], km.cluster_centers_[:, 1], s = 200, c = 'blue' , label = 'centeroid')\n",
        "\n",
        "plt.style.use('fivethirtyeight')\n",
        "plt.rcParams['figure.figsize'] = (16, 8)\n",
        "plt.title('Cluster of income', fontsize = 30)\n",
        "plt.xlabel('Annual Income')\n",
        "plt.ylabel('Spending Score')\n",
        "plt.legend()\n",
        "plt.show()"
      ],
      "metadata": {
        "id": "ia7jFk5EbBgV"
      },
      "execution_count": null,
      "outputs": []
    },
    {
      "cell_type": "code",
      "source": [
        "x = df.iloc[:, [2, 4]].values\n",
        "x.shape"
      ],
      "metadata": {
        "id": "Hrj4ORcVbBim"
      },
      "execution_count": null,
      "outputs": []
    },
    {
      "cell_type": "code",
      "source": [
        "from sklearn.cluster import KMeans\n",
        "wcss = []\n",
        "for i in range(1, 11):\n",
        "    kmeans = KMeans(n_clusters = i, init = 'k-means++', max_iter = 300, n_init = 10, random_state = 0)\n",
        "    kmeans.fit(x)\n",
        "    wcss.append(kmeans.inertia_)\n",
        "\n",
        "plt.rcParams['figure.figsize'] = (16, 8)\n",
        "plt.plot(range(1, 11), wcss)\n",
        "plt.title('K-Means Clustering(The Elbow Method)', fontsize = 20)\n",
        "plt.xlabel('Age')\n",
        "plt.ylabel('Count')\n",
        "plt.grid()\n",
        "plt.show()\n"
      ],
      "metadata": {
        "id": "41TfoY_4bBk_"
      },
      "execution_count": null,
      "outputs": []
    },
    {
      "cell_type": "code",
      "source": [
        "#  'green', label = 'miser'\n",
        "# yellow', label = 'general'\n",
        "# 'cyan', label = 'target'\n",
        "#  'magenta', label = 'spendthrift' \n",
        "#  'orange', label = 'careful') \n",
        "\n",
        "kmeans = KMeans(n_clusters = 4, init = 'k-means++', max_iter = 300, n_init = 10, random_state = 0)\n",
        "ymeans = kmeans.fit_predict(x)\n",
        "\n",
        "plt.rcParams['figure.figsize'] = (16, 8)\n",
        "plt.title('Cluster of Ages', fontsize = 30)\n",
        "\n",
        "plt.scatter(x[ymeans == 0, 0], x[ymeans == 0, 1], s = 100, c = 'green', label = 'Cluster 1' )\n",
        "plt.scatter(x[ymeans == 1, 0], x[ymeans == 1, 1], s = 100, c = 'orange', label = 'Cluster 2')\n",
        "plt.scatter(x[ymeans == 2, 0], x[ymeans == 2, 1], s = 100, c = 'cyan', label = 'Cluster 3')\n",
        "plt.scatter(x[ymeans == 3, 0], x[ymeans == 3, 1], s = 100, c = 'red', label = 'Cluster 4')\n",
        "plt.scatter(kmeans.cluster_centers_[:, 0], kmeans.cluster_centers_[:, 1], s = 200, c = 'blue', label = 'Centroid' )\n",
        "\n",
        "plt.style.use('fivethirtyeight')\n",
        "plt.xlabel('Age')\n",
        "plt.ylabel('Spending Score (1-100)')\n",
        "plt.legend()\n",
        "plt.grid()\n",
        "plt.show()"
      ],
      "metadata": {
        "id": "RtXmR7sDbBpP"
      },
      "execution_count": null,
      "outputs": []
    },
    {
      "cell_type": "markdown",
      "source": [
        "###HIERARCHICAL CLUSTERING"
      ],
      "metadata": {
        "id": "kCj2rvrobx1U"
      }
    },
    {
      "cell_type": "code",
      "source": [
        "import numpy as np\n",
        "import matplotlib.pyplot as plt\n",
        "import pandas as pd\n",
        "import seaborn as sns"
      ],
      "metadata": {
        "id": "o_Xp2jvpbBvL"
      },
      "execution_count": null,
      "outputs": []
    },
    {
      "cell_type": "code",
      "source": [
        "from google.colab import drive\n",
        "drive.mount('/content/drive')"
      ],
      "metadata": {
        "id": "4pktthlMc9oD"
      },
      "execution_count": null,
      "outputs": []
    },
    {
      "cell_type": "code",
      "source": [
        "data= pd.DataFrame(pd.read_csv(\"/content/drive/MyDrive/Mall_Customers New.csv\"))\n",
        "data.head()"
      ],
      "metadata": {
        "id": "9Yx8fvp0c9rO"
      },
      "execution_count": null,
      "outputs": []
    },
    {
      "cell_type": "code",
      "source": [
        "data.shape"
      ],
      "metadata": {
        "id": "5ZbgCTD4c9uF"
      },
      "execution_count": null,
      "outputs": []
    },
    {
      "cell_type": "code",
      "source": [
        "data.info()"
      ],
      "metadata": {
        "id": "Ep0k6apqc9wq"
      },
      "execution_count": null,
      "outputs": []
    },
    {
      "cell_type": "code",
      "source": [
        "data.describe()"
      ],
      "metadata": {
        "id": "d1-UN8W8c9zk"
      },
      "execution_count": null,
      "outputs": []
    },
    {
      "cell_type": "code",
      "source": [
        "duplicate_rows_df = data[data.duplicated()]\n",
        "print(\"number of duplicate rows: \", duplicate_rows_df.shape)"
      ],
      "metadata": {
        "id": "8lLOJRmwc96b"
      },
      "execution_count": null,
      "outputs": []
    },
    {
      "cell_type": "code",
      "source": [
        "# Visualising the number of males and females in the data\n",
        "sns.countplot(x=\"Genre\",data=data,palette=\"pastel\")\n",
        "plt.show()"
      ],
      "metadata": {
        "id": "Koutz82wc99L"
      },
      "execution_count": null,
      "outputs": []
    },
    {
      "cell_type": "code",
      "source": [
        "# Computing minimum and maximum age of customers\n",
        "print(min(data.Age))\n",
        "print(max(data.Age))"
      ],
      "metadata": {
        "id": "pQCjzQAcc-AA"
      },
      "execution_count": null,
      "outputs": []
    },
    {
      "cell_type": "code",
      "source": [
        "# Visualising the age distribution of customers\n",
        "plt.figure(figsize=(25,8))\n",
        "sns.countplot(x=\"Age\",data=data,palette=\"pastel\")\n",
        "plt.show()"
      ],
      "metadata": {
        "id": "MJTgKgdwc-Cd"
      },
      "execution_count": null,
      "outputs": []
    },
    {
      "cell_type": "code",
      "source": [
        "# Visualising the income distribution of customers\n",
        "plt.figure(figsize=(25,8))\n",
        "sns.countplot(x=\"Annual Income (k$)\",data=data,palette=\"pastel\")\n",
        "plt.show()"
      ],
      "metadata": {
        "id": "aRBs-dnxc-E9"
      },
      "execution_count": null,
      "outputs": []
    },
    {
      "cell_type": "code",
      "source": [
        "# Visualising the spending score of customers\n",
        "plt.figure(figsize=(25,8))\n",
        "sns.countplot(x=\"Spending Score (1-100)\",data=data,palette=\"pastel\")\n",
        "plt.show()"
      ],
      "metadata": {
        "id": "FEaQQ_prc-HW"
      },
      "execution_count": null,
      "outputs": []
    },
    {
      "cell_type": "code",
      "source": [
        "# Finding correaltion between all the parameters in the dataset.\n",
        "fig,ax = plt.subplots(figsize=(11,8))\n",
        "sns.heatmap(data.corr(),annot=True,cmap=\"Blues\" ,ax=ax)\n",
        "plt.show()"
      ],
      "metadata": {
        "id": "BQr_UvX4c-L4"
      },
      "execution_count": null,
      "outputs": []
    },
    {
      "cell_type": "code",
      "source": [
        "# Taking annual income and spending score in x to make clusters\n",
        "x=data.iloc[:,[3,4]]"
      ],
      "metadata": {
        "id": "2WgHtbhWc-OV"
      },
      "execution_count": null,
      "outputs": []
    },
    {
      "cell_type": "code",
      "source": [
        "# displaying first 5 rows of x\n",
        "x.head()"
      ],
      "metadata": {
        "id": "UgcwZTNrdhHF"
      },
      "execution_count": null,
      "outputs": []
    },
    {
      "cell_type": "code",
      "source": [
        "# Using elbow method to find the optimal number of clusters.\n",
        "from sklearn.cluster import KMeans"
      ],
      "metadata": {
        "id": "UqIDbU4rdhJm"
      },
      "execution_count": null,
      "outputs": []
    },
    {
      "cell_type": "code",
      "source": [
        "# WCSS is Within Cluster Sum of Squares\n",
        "wcss=[]\n",
        "for i in range (1,11):\n",
        "    kmeans=KMeans(n_clusters=i,init=\"k-means++\",max_iter=300,n_init=10,random_state=0)\n",
        "    kmeans.fit(x)\n",
        "    wcss.append(kmeans.inertia_)"
      ],
      "metadata": {
        "id": "HqpQGKVTdhMT"
      },
      "execution_count": null,
      "outputs": []
    },
    {
      "cell_type": "code",
      "source": [
        "# WCSS is Within Cluster Sum of Squares\n",
        "wcss=[]\n",
        "for i in range (1,11):\n",
        "    kmeans=KMeans(n_clusters=i,init=\"k-means++\",max_iter=300,n_init=10,random_state=0)\n",
        "    kmeans.fit(x)\n",
        "    wcss.append(kmeans.inertia_)\n",
        "# Visualising elbow method\n",
        "plt.plot(range(1,11),wcss)\n",
        "plt.xlabel(\"No. of Clusters\")\n",
        "plt.ylabel(\"WCSS\")\n",
        "plt.title(\"Elbow Method\")\n",
        "plt.show()"
      ],
      "metadata": {
        "id": "W4wKjy51dr7r"
      },
      "execution_count": null,
      "outputs": []
    },
    {
      "cell_type": "code",
      "source": [
        "# creating object kmeans of class KMeans()\n",
        "kmeans=KMeans(n_clusters=5,init=\"k-means++\",max_iter=300,n_init=10,random_state=0)"
      ],
      "metadata": {
        "id": "ZTMiODJidr-k"
      },
      "execution_count": null,
      "outputs": []
    },
    {
      "cell_type": "code",
      "source": [
        "y_kmeans=kmeans.fit_predict(x)\n",
        "y_kmeans"
      ],
      "metadata": {
        "id": "5Zq68kKMdsBF"
      },
      "execution_count": null,
      "outputs": []
    },
    {
      "cell_type": "code",
      "source": [
        "y_kmeans.astype\n"
      ],
      "metadata": {
        "id": "3b8bKzkBdsD0"
      },
      "execution_count": null,
      "outputs": []
    },
    {
      "cell_type": "code",
      "source": [
        "# converting x into ndarray to avoid errors\n",
        "x=np.array(x)"
      ],
      "metadata": {
        "id": "5YUFCuHbdsGg"
      },
      "execution_count": null,
      "outputs": []
    },
    {
      "cell_type": "code",
      "source": [
        "fig = plt.figure(figsize=(25, 10))\n",
        "plt.scatter(x[y_kmeans == 0, 0], x[y_kmeans == 0, 1], s = 100, c = 'red', label = 'Cluster 1')\n",
        "plt.scatter(x[y_kmeans == 1, 0], x[y_kmeans == 1, 1], s = 100, c = 'blue', label = 'Cluster 2')\n",
        "plt.scatter(x[y_kmeans == 2, 0], x[y_kmeans == 2, 1], s = 100, c = 'green', label = 'Cluster 3')\n",
        "plt.scatter(x[y_kmeans == 3, 0], x[y_kmeans == 3, 1], s = 100, c = 'cyan', label = 'Cluster 4')\n",
        "plt.scatter(x[y_kmeans == 4, 0], x[y_kmeans == 4, 1], s = 100, c = 'magenta', label = 'Cluster 5')\n",
        "plt.scatter(kmeans.cluster_centers_[:, 0], kmeans.cluster_centers_[:, 1], s = 300, c = 'yellow', label = 'Centroids')\n",
        "plt.title('Clusters of customers')\n",
        "plt.xlabel('Annual Income (k$)')\n",
        "plt.ylabel('Spending Score (1-100)')\n",
        "plt.legend()\n",
        "plt.show()"
      ],
      "metadata": {
        "id": "widC8Q57eHmF"
      },
      "execution_count": null,
      "outputs": []
    },
    {
      "cell_type": "code",
      "source": [
        "import scipy.cluster.hierarchy as sch\n",
        "# Visualising the dendrogram\n",
        "fig = plt.figure(figsize=(25, 10))\n",
        "dendrogram=sch.dendrogram(sch.linkage(x,method='ward'))\n",
        "plt.title(\"Dendrogram\")\n",
        "plt.xlabel(\"Customers\")\n",
        "plt.ylabel(\"Eucledian distance\")\n",
        "plt.show()"
      ],
      "metadata": {
        "id": "YuLLVNOeeHo0"
      },
      "execution_count": null,
      "outputs": []
    },
    {
      "cell_type": "code",
      "source": [
        "from sklearn.cluster import AgglomerativeClustering\n",
        "# creating object hc of class AgglomerativeClustering()\n",
        "hc=AgglomerativeClustering(n_clusters=5,affinity=\"euclidean\",linkage=\"ward\")\n",
        "# it gives an array which tells as to which data point belongs to which cluster (0,1,2,3,4)\n",
        "y_hc=hc.fit_predict(x)"
      ],
      "metadata": {
        "id": "Tdv4NKA0eHrd"
      },
      "execution_count": null,
      "outputs": []
    },
    {
      "cell_type": "code",
      "source": [
        "# Visualising the clusters\n",
        "fig = plt.figure(figsize=(25, 10))\n",
        "plt.scatter(x[y_hc == 0, 0], x[y_hc == 0, 1], s = 100, c = 'red', label = 'Cluster 1')\n",
        "plt.scatter(x[y_hc == 1, 0], x[y_hc == 1, 1], s = 100, c = 'blue', label = 'Cluster 2')\n",
        "plt.scatter(x[y_hc == 2, 0], x[y_hc == 2, 1], s = 100, c = 'green', label = 'Cluster 3')\n",
        "plt.scatter(x[y_hc == 3, 0], x[y_hc == 3, 1], s = 100, c = 'cyan', label = 'Cluster 4')\n",
        "plt.scatter(x[y_hc == 4, 0], x[y_hc == 4, 1], s = 100, c = 'magenta', label = 'Cluster 5')\n",
        "plt.title('Clusters of customers')\n",
        "plt.xlabel('Annual Income (k$)')\n",
        "plt.ylabel('Spending Score (1-100)')\n",
        "plt.legend()\n",
        "plt.show()"
      ],
      "metadata": {
        "id": "MpFxn3EbeibD"
      },
      "execution_count": null,
      "outputs": []
    },
    {
      "cell_type": "code",
      "source": [],
      "metadata": {
        "id": "0M-EXxl9eimd"
      },
      "execution_count": null,
      "outputs": []
    }
  ]
}